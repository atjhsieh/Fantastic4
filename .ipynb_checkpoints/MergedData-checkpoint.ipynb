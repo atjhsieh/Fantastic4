{
 "cells": [
  {
   "cell_type": "code",
   "execution_count": 1,
   "metadata": {},
   "outputs": [],
   "source": [
    "import pandas as pd\n",
    "import numpy as np\n",
    "import matplotlib.pyplot as plt\n",
    "import json\n",
    "import os\n",
    "import csv\n",
    "from pprint import pprint"
   ]
  },
  {
   "cell_type": "code",
   "execution_count": 5,
   "metadata": {},
   "outputs": [],
   "source": [
    "csv_file = \"Merged.csv\"\n",
    "testing = pd.read_csv(csv_file)"
   ]
  },
  {
   "cell_type": "code",
   "execution_count": 8,
   "metadata": {},
   "outputs": [
    {
     "data": {
      "text/plain": [
       "0       0.552678\n",
       "1       0.552678\n",
       "2       0.552678\n",
       "3       0.552678\n",
       "4       0.552678\n",
       "5       0.552678\n",
       "6       0.552678\n",
       "7       0.552678\n",
       "8       0.552678\n",
       "9       0.552678\n",
       "10      0.552678\n",
       "11      0.552678\n",
       "12      0.640024\n",
       "13      0.640024\n",
       "14      0.640024\n",
       "15      0.640024\n",
       "16      0.640024\n",
       "17      0.640024\n",
       "18      0.640024\n",
       "19      0.640024\n",
       "20      0.640024\n",
       "21      0.640024\n",
       "22      0.640024\n",
       "23      0.640024\n",
       "24      0.647908\n",
       "25      0.647908\n",
       "26      0.647908\n",
       "27      0.647908\n",
       "28      0.647908\n",
       "29      0.647908\n",
       "          ...   \n",
       "7142    0.785679\n",
       "7143    0.785679\n",
       "7144    0.785679\n",
       "7145    0.785679\n",
       "7146    0.785679\n",
       "7147    0.785679\n",
       "7148    0.749193\n",
       "7149    0.749193\n",
       "7150    0.749193\n",
       "7151    0.749193\n",
       "7152    0.749193\n",
       "7153    0.749193\n",
       "7154    0.749193\n",
       "7155    0.749193\n",
       "7156    0.749193\n",
       "7157    0.749193\n",
       "7158    0.749193\n",
       "7159    0.749193\n",
       "7160    0.804545\n",
       "7161    0.804545\n",
       "7162    0.804545\n",
       "7163    0.804545\n",
       "7164    0.804545\n",
       "7165    0.804545\n",
       "7166    0.804545\n",
       "7167    0.804545\n",
       "7168    0.804545\n",
       "7169    0.804545\n",
       "7170    0.804545\n",
       "7171    0.804545\n",
       "Name: Positive affect, Length: 7172, dtype: float64"
      ]
     },
     "execution_count": 8,
     "metadata": {},
     "output_type": "execute_result"
    }
   ],
   "source": [
    "testing[\"Positive affect\"]"
   ]
  },
  {
   "cell_type": "code",
   "execution_count": null,
   "metadata": {},
   "outputs": [],
   "source": []
  }
 ],
 "metadata": {
  "kernelspec": {
   "display_name": "Python [conda env:Anaconda3]",
   "language": "python",
   "name": "conda-env-Anaconda3-py"
  },
  "language_info": {
   "codemirror_mode": {
    "name": "ipython",
    "version": 3
   },
   "file_extension": ".py",
   "mimetype": "text/x-python",
   "name": "python",
   "nbconvert_exporter": "python",
   "pygments_lexer": "ipython3",
   "version": "3.6.5"
  }
 },
 "nbformat": 4,
 "nbformat_minor": 2
}
